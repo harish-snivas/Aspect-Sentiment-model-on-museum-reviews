{
 "cells": [
  {
   "cell_type": "code",
   "execution_count": 1,
   "metadata": {},
   "outputs": [],
   "source": [
    "import pandas as pd\n",
    "import numpy as np"
   ]
  },
  {
   "cell_type": "markdown",
   "metadata": {},
   "source": [
    "Importing data"
   ]
  },
  {
   "cell_type": "code",
   "execution_count": 2,
   "metadata": {},
   "outputs": [
    {
     "data": {
      "text/html": [
       "<div>\n",
       "<style scoped>\n",
       "    .dataframe tbody tr th:only-of-type {\n",
       "        vertical-align: middle;\n",
       "    }\n",
       "\n",
       "    .dataframe tbody tr th {\n",
       "        vertical-align: top;\n",
       "    }\n",
       "\n",
       "    .dataframe thead th {\n",
       "        text-align: right;\n",
       "    }\n",
       "</style>\n",
       "<table border=\"1\" class=\"dataframe\">\n",
       "  <thead>\n",
       "    <tr style=\"text-align: right;\">\n",
       "      <th></th>\n",
       "      <th>museum</th>\n",
       "      <th>rating</th>\n",
       "      <th>title</th>\n",
       "      <th>content</th>\n",
       "      <th>review_date</th>\n",
       "      <th>experienced_date</th>\n",
       "      <th>user_location</th>\n",
       "    </tr>\n",
       "  </thead>\n",
       "  <tbody>\n",
       "    <tr>\n",
       "      <th>0</th>\n",
       "      <td>Adams Museum</td>\n",
       "      <td>ui_bubble_rating bubble_50</td>\n",
       "      <td>Took our flat land cousins to the Adams Museum...</td>\n",
       "      <td>This excellent museum is a hidden gem. Tells t...</td>\n",
       "      <td>January 8, 2020</td>\n",
       "      <td>Date of experience: December 2019</td>\n",
       "      <td>Albuquerque</td>\n",
       "    </tr>\n",
       "    <tr>\n",
       "      <th>1</th>\n",
       "      <td>Adams Museum</td>\n",
       "      <td>ui_bubble_rating bubble_50</td>\n",
       "      <td>Black Hills Gold Rush</td>\n",
       "      <td>No better way to familiarize yourself with the...</td>\n",
       "      <td>January 7, 2020</td>\n",
       "      <td>Date of experience: November 2019</td>\n",
       "      <td>Austin, Texas</td>\n",
       "    </tr>\n",
       "    <tr>\n",
       "      <th>2</th>\n",
       "      <td>Adams Museum</td>\n",
       "      <td>ui_bubble_rating bubble_50</td>\n",
       "      <td>Make This Your First Stop To Learn Deadwood’s ...</td>\n",
       "      <td>This is a fabulous small museum on the history...</td>\n",
       "      <td>November 21, 2019</td>\n",
       "      <td>Date of experience: June 2019</td>\n",
       "      <td>San Fernando, California</td>\n",
       "    </tr>\n",
       "    <tr>\n",
       "      <th>3</th>\n",
       "      <td>Adams Museum</td>\n",
       "      <td>ui_bubble_rating bubble_40</td>\n",
       "      <td>If you have time to waste....</td>\n",
       "      <td>This place has great history about Deadwood. L...</td>\n",
       "      <td>November 18, 2019</td>\n",
       "      <td>Date of experience: November 2019</td>\n",
       "      <td>Spring, Texas</td>\n",
       "    </tr>\n",
       "    <tr>\n",
       "      <th>4</th>\n",
       "      <td>Adams Museum</td>\n",
       "      <td>ui_bubble_rating bubble_50</td>\n",
       "      <td>Days Of Old West's Glory Days.</td>\n",
       "      <td>Adams Museum has it all to see. The first mini...</td>\n",
       "      <td>November 5, 2019</td>\n",
       "      <td>Date of experience: October 2019</td>\n",
       "      <td>NaN</td>\n",
       "    </tr>\n",
       "  </tbody>\n",
       "</table>\n",
       "</div>"
      ],
      "text/plain": [
       "         museum                      rating  \\\n",
       "0  Adams Museum  ui_bubble_rating bubble_50   \n",
       "1  Adams Museum  ui_bubble_rating bubble_50   \n",
       "2  Adams Museum  ui_bubble_rating bubble_50   \n",
       "3  Adams Museum  ui_bubble_rating bubble_40   \n",
       "4  Adams Museum  ui_bubble_rating bubble_50   \n",
       "\n",
       "                                               title  \\\n",
       "0  Took our flat land cousins to the Adams Museum...   \n",
       "1                              Black Hills Gold Rush   \n",
       "2  Make This Your First Stop To Learn Deadwood’s ...   \n",
       "3                      If you have time to waste....   \n",
       "4                     Days Of Old West's Glory Days.   \n",
       "\n",
       "                                             content        review_date  \\\n",
       "0  This excellent museum is a hidden gem. Tells t...    January 8, 2020   \n",
       "1  No better way to familiarize yourself with the...    January 7, 2020   \n",
       "2  This is a fabulous small museum on the history...  November 21, 2019   \n",
       "3  This place has great history about Deadwood. L...  November 18, 2019   \n",
       "4  Adams Museum has it all to see. The first mini...   November 5, 2019   \n",
       "\n",
       "                    experienced_date             user_location  \n",
       "0  Date of experience: December 2019               Albuquerque  \n",
       "1  Date of experience: November 2019             Austin, Texas  \n",
       "2      Date of experience: June 2019  San Fernando, California  \n",
       "3  Date of experience: November 2019             Spring, Texas  \n",
       "4   Date of experience: October 2019                       NaN  "
      ]
     },
     "execution_count": 2,
     "metadata": {},
     "output_type": "execute_result"
    }
   ],
   "source": [
    "dataset = pd.read_csv('./data/ms_review_final.csv')\n",
    "dataset.head(5)"
   ]
  },
  {
   "cell_type": "markdown",
   "metadata": {},
   "source": [
    "Filtering for a single museum"
   ]
  },
  {
   "cell_type": "code",
   "execution_count": 3,
   "metadata": {},
   "outputs": [
    {
     "data": {
      "text/html": [
       "<div>\n",
       "<style scoped>\n",
       "    .dataframe tbody tr th:only-of-type {\n",
       "        vertical-align: middle;\n",
       "    }\n",
       "\n",
       "    .dataframe tbody tr th {\n",
       "        vertical-align: top;\n",
       "    }\n",
       "\n",
       "    .dataframe thead th {\n",
       "        text-align: right;\n",
       "    }\n",
       "</style>\n",
       "<table border=\"1\" class=\"dataframe\">\n",
       "  <thead>\n",
       "    <tr style=\"text-align: right;\">\n",
       "      <th></th>\n",
       "      <th>museum</th>\n",
       "      <th>rating</th>\n",
       "      <th>title</th>\n",
       "      <th>content</th>\n",
       "      <th>review_date</th>\n",
       "      <th>experienced_date</th>\n",
       "      <th>user_location</th>\n",
       "    </tr>\n",
       "  </thead>\n",
       "  <tbody>\n",
       "    <tr>\n",
       "      <th>4249</th>\n",
       "      <td>American Airpower Museum</td>\n",
       "      <td>ui_bubble_rating bubble_50</td>\n",
       "      <td>Fun day out</td>\n",
       "      <td>Wish I’d pre purchased tickets as queue was ab...</td>\n",
       "      <td>January 22, 2020</td>\n",
       "      <td>Date of experience: January 2020</td>\n",
       "      <td>NaN</td>\n",
       "    </tr>\n",
       "    <tr>\n",
       "      <th>4250</th>\n",
       "      <td>American Airpower Museum</td>\n",
       "      <td>ui_bubble_rating bubble_50</td>\n",
       "      <td>Great place to visit</td>\n",
       "      <td>My niece and I visited the museum today and sa...</td>\n",
       "      <td>January 21, 2020</td>\n",
       "      <td>Date of experience: January 2020</td>\n",
       "      <td>Clearwater, Florida</td>\n",
       "    </tr>\n",
       "    <tr>\n",
       "      <th>4251</th>\n",
       "      <td>American Airpower Museum</td>\n",
       "      <td>ui_bubble_rating bubble_50</td>\n",
       "      <td>Very interesting and BIG</td>\n",
       "      <td>The museum is very interesting and complete. I...</td>\n",
       "      <td>January 21, 2020</td>\n",
       "      <td>Date of experience: January 2020</td>\n",
       "      <td>Lelystad, The Netherlands</td>\n",
       "    </tr>\n",
       "    <tr>\n",
       "      <th>4252</th>\n",
       "      <td>American Airpower Museum</td>\n",
       "      <td>ui_bubble_rating bubble_50</td>\n",
       "      <td>Amazing</td>\n",
       "      <td>I love museums that don't go over the top with...</td>\n",
       "      <td>January 20, 2020</td>\n",
       "      <td>Date of experience: September 2019</td>\n",
       "      <td>Sowerby Bridge, United Kingdom</td>\n",
       "    </tr>\n",
       "    <tr>\n",
       "      <th>4253</th>\n",
       "      <td>American Airpower Museum</td>\n",
       "      <td>ui_bubble_rating bubble_50</td>\n",
       "      <td>Educational spot</td>\n",
       "      <td>T-rex exhibit was every educational for the ch...</td>\n",
       "      <td>January 20, 2020</td>\n",
       "      <td>Date of experience: January 2020</td>\n",
       "      <td>Hollywood, Florida</td>\n",
       "    </tr>\n",
       "  </tbody>\n",
       "</table>\n",
       "</div>"
      ],
      "text/plain": [
       "                        museum                      rating  \\\n",
       "4249  American Airpower Museum  ui_bubble_rating bubble_50   \n",
       "4250  American Airpower Museum  ui_bubble_rating bubble_50   \n",
       "4251  American Airpower Museum  ui_bubble_rating bubble_50   \n",
       "4252  American Airpower Museum  ui_bubble_rating bubble_50   \n",
       "4253  American Airpower Museum  ui_bubble_rating bubble_50   \n",
       "\n",
       "                         title  \\\n",
       "4249               Fun day out   \n",
       "4250      Great place to visit   \n",
       "4251  Very interesting and BIG   \n",
       "4252                   Amazing   \n",
       "4253          Educational spot   \n",
       "\n",
       "                                                content       review_date  \\\n",
       "4249  Wish I’d pre purchased tickets as queue was ab...  January 22, 2020   \n",
       "4250  My niece and I visited the museum today and sa...  January 21, 2020   \n",
       "4251  The museum is very interesting and complete. I...  January 21, 2020   \n",
       "4252  I love museums that don't go over the top with...  January 20, 2020   \n",
       "4253  T-rex exhibit was every educational for the ch...  January 20, 2020   \n",
       "\n",
       "                        experienced_date                   user_location  \n",
       "4249    Date of experience: January 2020                             NaN  \n",
       "4250    Date of experience: January 2020             Clearwater, Florida  \n",
       "4251    Date of experience: January 2020       Lelystad, The Netherlands  \n",
       "4252  Date of experience: September 2019  Sowerby Bridge, United Kingdom  \n",
       "4253    Date of experience: January 2020              Hollywood, Florida  "
      ]
     },
     "execution_count": 3,
     "metadata": {},
     "output_type": "execute_result"
    }
   ],
   "source": [
    "mini_data = dataset[dataset['museum'] == \"American Airpower Museum\"]\n",
    "mini_data.head()"
   ]
  },
  {
   "cell_type": "markdown",
   "metadata": {},
   "source": [
    "Gettting noun chunks using spacy package"
   ]
  },
  {
   "cell_type": "code",
   "execution_count": null,
   "metadata": {},
   "outputs": [],
   "source": [
    "mini_data.content = mini_data.content.str.lower()\n",
    "\n",
    "aspect_terms = []\n",
    "for review in nlp.pipe(mini_data.content):\n",
    "    chunks = [(chunk.root.text) for chunk in review.noun_chunks if chunk.root.pos_ == 'NOUN']\n",
    "    aspect_terms.append(' '.join(chunks))\n",
    "mini_data['aspect_terms'] = aspect_terms\n",
    "mini_data.head(10)"
   ]
  },
  {
   "cell_type": "markdown",
   "metadata": {},
   "source": [
    "Importing packages to construct nlp pipeline"
   ]
  },
  {
   "cell_type": "code",
   "execution_count": 4,
   "metadata": {},
   "outputs": [
    {
     "name": "stderr",
     "output_type": "stream",
     "text": [
      "/usr/lib/python3.6/importlib/_bootstrap.py:219: RuntimeWarning: spacy.morphology.Morphology size changed, may indicate binary incompatibility. Expected 104 from C header, got 112 from PyObject\n",
      "  return f(*args, **kwds)\n",
      "/usr/lib/python3.6/importlib/_bootstrap.py:219: RuntimeWarning: spacy.vocab.Vocab size changed, may indicate binary incompatibility. Expected 96 from C header, got 104 from PyObject\n",
      "  return f(*args, **kwds)\n"
     ]
    },
    {
     "data": {
      "text/plain": [
       "<spacy.lang.en.English at 0x7f4b70eadd30>"
      ]
     },
     "execution_count": 4,
     "metadata": {},
     "output_type": "execute_result"
    }
   ],
   "source": [
    "import spacy\n",
    "nlp = spacy.load(\"en\")\n",
    "\n",
    "import neuralcoref\n",
    "neuralcoref.add_to_pipe(nlp, greedyness= 0.4)"
   ]
  },
  {
   "cell_type": "markdown",
   "metadata": {},
   "source": [
    "Testing with a sample review."
   ]
  },
  {
   "cell_type": "code",
   "execution_count": 5,
   "metadata": {},
   "outputs": [],
   "source": [
    "doc = nlp(mini_data[\"content\"].iloc[2])"
   ]
  },
  {
   "cell_type": "code",
   "execution_count": null,
   "metadata": {},
   "outputs": [],
   "source": [
    "#doc = nlp(\"I bought a Moto G, six month ago. Camera and Battery is simply awesome. The display is ok. However, my girlfriend thinks it is too heavy to carry.\")"
   ]
  },
  {
   "cell_type": "markdown",
   "metadata": {},
   "source": [
    "Exploring the coreference resolution package"
   ]
  },
  {
   "cell_type": "code",
   "execution_count": 6,
   "metadata": {},
   "outputs": [
    {
     "data": {
      "text/plain": [
       "[]"
      ]
     },
     "execution_count": 6,
     "metadata": {},
     "output_type": "execute_result"
    }
   ],
   "source": [
    "doc._.coref_clusters"
   ]
  },
  {
   "cell_type": "markdown",
   "metadata": {},
   "source": [
    "Checking Coreference resolved text"
   ]
  },
  {
   "cell_type": "code",
   "execution_count": 7,
   "metadata": {},
   "outputs": [],
   "source": [
    "resolved_text = doc._.coref_resolved"
   ]
  },
  {
   "cell_type": "code",
   "execution_count": 8,
   "metadata": {},
   "outputs": [
    {
     "data": {
      "text/plain": [
       "'The museum is very interesting and complete. I particularly enjoyed the top floor with the fossils of dinosaurs and early mammals. This section is set up very well. Seriously interesting. I did not care for the African Mammals. This exhibit gave me the sad feeling like we were looking at already extinct animals, like a dead zoo. I would say skip this part! Instead spend time elsewhere like the geography section.'"
      ]
     },
     "execution_count": 8,
     "metadata": {},
     "output_type": "execute_result"
    }
   ],
   "source": [
    "resolved_text"
   ]
  },
  {
   "cell_type": "markdown",
   "metadata": {},
   "source": [
    "Checking for named entities in the text"
   ]
  },
  {
   "cell_type": "code",
   "execution_count": 9,
   "metadata": {},
   "outputs": [
    {
     "name": "stdout",
     "output_type": "stream",
     "text": [
      "African NORP\n"
     ]
    }
   ],
   "source": [
    "for ent in doc.ents:\n",
    "    print(ent.text, ent.label_)"
   ]
  },
  {
   "cell_type": "markdown",
   "metadata": {},
   "source": [
    "Importing nltk for stopwords detection"
   ]
  },
  {
   "cell_type": "markdown",
   "metadata": {},
   "source": [
    "Importing packages for sentiment and stopwords"
   ]
  },
  {
   "cell_type": "code",
   "execution_count": 10,
   "metadata": {},
   "outputs": [],
   "source": [
    "from nltk.corpus import stopwords\n",
    "from senticnet.senticnet import SenticNet"
   ]
  },
  {
   "cell_type": "code",
   "execution_count": 11,
   "metadata": {},
   "outputs": [],
   "source": [
    "sn = SenticNet()\n",
    "concept_info = sn.concept('body')\n",
    "polarity_value = sn.polarity_value('manufacture')\n",
    "polarity_intense = sn.polarity_intense('manufacture')\n",
    "moodtags = sn.moodtags('love')\n",
    "semantics = sn.semantics('love')\n",
    "sentics = sn.sentics('love')"
   ]
  },
  {
   "cell_type": "code",
   "execution_count": 12,
   "metadata": {},
   "outputs": [
    {
     "data": {
      "text/plain": [
       "'0.13'"
      ]
     },
     "execution_count": 12,
     "metadata": {},
     "output_type": "execute_result"
    }
   ],
   "source": [
    "polarity_intense"
   ]
  },
  {
   "cell_type": "code",
   "execution_count": 13,
   "metadata": {},
   "outputs": [],
   "source": [
    "stop_words = stopwords.words('english')"
   ]
  },
  {
   "cell_type": "markdown",
   "metadata": {},
   "source": [
    "Parsing review and checking each review based on the rules to extract aspect opinion pairs."
   ]
  },
  {
   "cell_type": "code",
   "execution_count": 15,
   "metadata": {},
   "outputs": [
    {
     "name": "stdout",
     "output_type": "stream",
     "text": [
      "The DT det museum NN\n",
      "museum NN nsubj is VBZ\n",
      "is VBZ ROOT is VBZ\n",
      "very RB advmod interesting JJ\n",
      "interesting JJ acomp is VBZ\n",
      "and CC cc interesting JJ\n",
      "complete JJ conj interesting JJ\n",
      ". . punct is VBZ\n",
      "I PRP nsubj enjoyed VBD\n",
      "particularly RB advmod enjoyed VBD\n",
      "enjoyed VBD ROOT enjoyed VBD\n",
      "the DT det floor NN\n",
      "top JJ amod floor NN\n",
      "floor NN dobj enjoyed VBD\n",
      "with IN prep enjoyed VBD\n",
      "the DT det fossils NNS\n",
      "fossils NNS pobj with IN\n",
      "of IN prep fossils NNS\n",
      "dinosaurs NNS pobj of IN\n",
      "and CC cc dinosaurs NNS\n",
      "early JJ amod mammals NNS\n",
      "mammals NNS conj dinosaurs NNS\n",
      ". . punct enjoyed VBD\n",
      "This DT det section NN\n",
      "section NN nsubjpass set VBN\n",
      "is VBZ auxpass set VBN\n",
      "set VBN ROOT set VBN\n",
      "up RP prt set VBN\n",
      "very RB advmod well RB\n",
      "well RB advmod set VBN\n",
      ". . punct set VBN\n",
      "Seriously RB advmod interesting JJ\n",
      "interesting JJ ROOT interesting JJ\n",
      ". . punct interesting JJ\n",
      "I PRP nsubj care VB\n",
      "did VBD aux care VB\n",
      "not RB neg care VB\n",
      "care VB ROOT care VB\n",
      "for IN prep care VB\n",
      "the DT det Mammals NNPS\n",
      "African NNP compound Mammals NNPS\n",
      "Mammals NNPS pobj for IN\n",
      ". . punct care VB\n",
      "This DT det exhibit NN\n"
     ]
    },
    {
     "ename": "KeyError",
     "evalue": "'gave'",
     "output_type": "error",
     "traceback": [
      "\u001b[0;31m---------------------------------------------------------------------------\u001b[0m",
      "\u001b[0;31mKeyError\u001b[0m                                  Traceback (most recent call last)",
      "\u001b[0;32m<ipython-input-15-fa4f66c75ceb>\u001b[0m in \u001b[0;36m<module>\u001b[0;34m\u001b[0m\n\u001b[1;32m      1\u001b[0m \u001b[0;32mfor\u001b[0m \u001b[0mtoken\u001b[0m \u001b[0;32min\u001b[0m \u001b[0mdoc\u001b[0m\u001b[0;34m:\u001b[0m\u001b[0;34m\u001b[0m\u001b[0;34m\u001b[0m\u001b[0m\n\u001b[1;32m      2\u001b[0m     \u001b[0mrule_0\u001b[0m \u001b[0;34m=\u001b[0m \u001b[0;34m(\u001b[0m\u001b[0mtoken\u001b[0m\u001b[0;34m.\u001b[0m\u001b[0mtag_\u001b[0m \u001b[0;32min\u001b[0m \u001b[0;34m[\u001b[0m\u001b[0;34m\"NN\"\u001b[0m\u001b[0;34m,\u001b[0m \u001b[0;34m\"NNS\"\u001b[0m\u001b[0;34m,\u001b[0m \u001b[0;34m\"NNP\"\u001b[0m\u001b[0;34m,\u001b[0m \u001b[0;34m\"NNPS\"\u001b[0m\u001b[0;34m]\u001b[0m\u001b[0;34m)\u001b[0m \u001b[0;32mand\u001b[0m \u001b[0;34m(\u001b[0m\u001b[0mtoken\u001b[0m\u001b[0;34m.\u001b[0m\u001b[0mtext\u001b[0m \u001b[0;32mnot\u001b[0m \u001b[0;32min\u001b[0m \u001b[0mstop_words\u001b[0m\u001b[0;34m)\u001b[0m \u001b[0;32mand\u001b[0m \u001b[0;34m(\u001b[0m\u001b[0mtoken\u001b[0m\u001b[0;34m.\u001b[0m\u001b[0mhead\u001b[0m\u001b[0;34m.\u001b[0m\u001b[0mtext\u001b[0m \u001b[0;32mnot\u001b[0m \u001b[0;32min\u001b[0m \u001b[0mstop_words\u001b[0m\u001b[0;34m)\u001b[0m\u001b[0;34m\u001b[0m\u001b[0;34m\u001b[0m\u001b[0m\n\u001b[0;32m----> 3\u001b[0;31m     \u001b[0mrule_1\u001b[0m \u001b[0;34m=\u001b[0m \u001b[0mrule_0\u001b[0m \u001b[0;32mand\u001b[0m \u001b[0;34m(\u001b[0m\u001b[0mtoken\u001b[0m\u001b[0;34m.\u001b[0m\u001b[0mdep_\u001b[0m \u001b[0;34m==\u001b[0m \u001b[0;34m\"nsubj\"\u001b[0m \u001b[0;32mand\u001b[0m \u001b[0msn\u001b[0m\u001b[0;34m.\u001b[0m\u001b[0mpolarity_intense\u001b[0m\u001b[0;34m(\u001b[0m\u001b[0mtoken\u001b[0m\u001b[0;34m.\u001b[0m\u001b[0mhead\u001b[0m\u001b[0;34m.\u001b[0m\u001b[0mtext\u001b[0m\u001b[0;34m)\u001b[0m\u001b[0;34m)\u001b[0m\u001b[0;34m\u001b[0m\u001b[0;34m\u001b[0m\u001b[0m\n\u001b[0m\u001b[1;32m      4\u001b[0m     \u001b[0mrule_2\u001b[0m \u001b[0;34m=\u001b[0m \u001b[0mrule_0\u001b[0m \u001b[0;32mand\u001b[0m \u001b[0;34m(\u001b[0m\u001b[0mtoken\u001b[0m\u001b[0;34m.\u001b[0m\u001b[0mdep_\u001b[0m \u001b[0;34m==\u001b[0m \u001b[0;34m\"advmod\"\u001b[0m \u001b[0;32mand\u001b[0m \u001b[0mtoken\u001b[0m\u001b[0;34m.\u001b[0m\u001b[0mhead\u001b[0m\u001b[0;34m.\u001b[0m\u001b[0mtag_\u001b[0m \u001b[0;34m==\u001b[0m \u001b[0;34m\"JJ\"\u001b[0m\u001b[0;34m)\u001b[0m\u001b[0;34m\u001b[0m\u001b[0;34m\u001b[0m\u001b[0m\n\u001b[1;32m      5\u001b[0m     \u001b[0mprint\u001b[0m\u001b[0;34m(\u001b[0m\u001b[0mtoken\u001b[0m\u001b[0;34m.\u001b[0m\u001b[0mtext\u001b[0m\u001b[0;34m,\u001b[0m \u001b[0mtoken\u001b[0m\u001b[0;34m.\u001b[0m\u001b[0mtag_\u001b[0m\u001b[0;34m,\u001b[0m \u001b[0mtoken\u001b[0m\u001b[0;34m.\u001b[0m\u001b[0mdep_\u001b[0m\u001b[0;34m,\u001b[0m \u001b[0mtoken\u001b[0m\u001b[0;34m.\u001b[0m\u001b[0mhead\u001b[0m\u001b[0;34m.\u001b[0m\u001b[0mtext\u001b[0m\u001b[0;34m,\u001b[0m \u001b[0mtoken\u001b[0m\u001b[0;34m.\u001b[0m\u001b[0mhead\u001b[0m\u001b[0;34m.\u001b[0m\u001b[0mtag_\u001b[0m\u001b[0;34m)\u001b[0m\u001b[0;34m\u001b[0m\u001b[0;34m\u001b[0m\u001b[0m\n",
      "\u001b[0;32m/usr/local/lib/python3.6/dist-packages/senticnet/senticnet.py\u001b[0m in \u001b[0;36mpolarity_intense\u001b[0;34m(self, concept)\u001b[0m\n\u001b[1;32m     64\u001b[0m         \"\"\"\n\u001b[1;32m     65\u001b[0m         \u001b[0mconcept\u001b[0m \u001b[0;34m=\u001b[0m \u001b[0mconcept\u001b[0m\u001b[0;34m.\u001b[0m\u001b[0mreplace\u001b[0m\u001b[0;34m(\u001b[0m\u001b[0;34m\" \"\u001b[0m\u001b[0;34m,\u001b[0m \u001b[0;34m\"_\"\u001b[0m\u001b[0;34m)\u001b[0m\u001b[0;34m\u001b[0m\u001b[0;34m\u001b[0m\u001b[0m\n\u001b[0;32m---> 66\u001b[0;31m         \u001b[0mconcept_info\u001b[0m \u001b[0;34m=\u001b[0m \u001b[0mself\u001b[0m\u001b[0;34m.\u001b[0m\u001b[0mdata\u001b[0m\u001b[0;34m[\u001b[0m\u001b[0mconcept\u001b[0m\u001b[0;34m]\u001b[0m\u001b[0;34m\u001b[0m\u001b[0;34m\u001b[0m\u001b[0m\n\u001b[0m\u001b[1;32m     67\u001b[0m \u001b[0;34m\u001b[0m\u001b[0m\n\u001b[1;32m     68\u001b[0m         \u001b[0;32mreturn\u001b[0m \u001b[0mconcept_info\u001b[0m\u001b[0;34m[\u001b[0m\u001b[0;36m7\u001b[0m\u001b[0;34m]\u001b[0m\u001b[0;34m\u001b[0m\u001b[0;34m\u001b[0m\u001b[0m\n",
      "\u001b[0;31mKeyError\u001b[0m: 'gave'"
     ]
    }
   ],
   "source": [
    "for token in doc:\n",
    "    rule_0 = (token.tag_ in [\"NN\", \"NNS\", \"NNP\", \"NNPS\"]) and (token.text not in stop_words) and (token.head.text not in stop_words)\n",
    "    rule_1 = rule_0 and (token.dep_ == \"nsubj\" and sn.polarity_intense(token.head.text))\n",
    "    rule_2 = rule_0 and (token.dep_ == \"advmod\" and token.head.tag_ == \"JJ\")\n",
    "    print(token.text, token.tag_, token.dep_, token.head.text, token.head.tag_)"
   ]
  },
  {
   "cell_type": "code",
   "execution_count": null,
   "metadata": {},
   "outputs": [],
   "source": [
    "polarity_value"
   ]
  },
  {
   "cell_type": "code",
   "execution_count": null,
   "metadata": {},
   "outputs": [],
   "source": [
    "### sentiment_terms = []\n",
    "for review in nlp.pipe(mini_data.content):\n",
    "        if review.is_parsed:\n",
    "            sentiment_terms.append(' '.join([token.lemma_ for token in review if (not token.is_stop and not token.is_punct and (token.pos_ == \"ADJ\" or token.pos_ == \"VERB\"))]))\n",
    "        else:\n",
    "            sentiment_terms.append('')  \n",
    "mini_data['sentiment_terms'] = sentiment_terms\n",
    "mini_data.head(10)"
   ]
  },
  {
   "cell_type": "code",
   "execution_count": null,
   "metadata": {},
   "outputs": [],
   "source": [
    "print(polarity_value, polarity_intense)"
   ]
  }
 ],
 "metadata": {
  "kernelspec": {
   "display_name": "Python 3",
   "language": "python",
   "name": "python3"
  },
  "language_info": {
   "codemirror_mode": {
    "name": "ipython",
    "version": 3
   },
   "file_extension": ".py",
   "mimetype": "text/x-python",
   "name": "python",
   "nbconvert_exporter": "python",
   "pygments_lexer": "ipython3",
   "version": "3.6.9"
  }
 },
 "nbformat": 4,
 "nbformat_minor": 4
}
